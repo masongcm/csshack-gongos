{
 "cells": [
  {
   "cell_type": "code",
   "execution_count": 1,
   "metadata": {
    "collapsed": true
   },
   "outputs": [],
   "source": [
    "import pandas as pd"
   ]
  },
  {
   "cell_type": "code",
   "execution_count": 2,
   "metadata": {
    "collapsed": true
   },
   "outputs": [],
   "source": [
    "from scrape_functions import extract_text, extract_to_dict"
   ]
  },
  {
   "cell_type": "code",
   "execution_count": 3,
   "metadata": {
    "collapsed": true
   },
   "outputs": [],
   "source": [
    "vz_csv = pd.read_csv('orgs_vz.csv')"
   ]
  },
  {
   "cell_type": "code",
   "execution_count": 6,
   "metadata": {},
   "outputs": [
    {
     "name": "stdout",
     "output_type": "stream",
     "text": [
      "Cannot extract text for APDHLP - Asamblea Permanente Derechos Humanos La Paz\n",
      "Cannot extract text for Consejos Comunales\n",
      "Cannot extract text for C.C. José Antonio Páez Sector I\n",
      "Cannot extract text for CGTFB - Confederación Trabajadores Fabriles Bolivia\n",
      "Cannot extract text for Juntas Vecinales\n",
      "Cannot extract text for Junta Vecinal Final Yanacocha\n"
     ]
    }
   ],
   "source": [
    "data_dict = extract_to_dict(vz_csv)"
   ]
  },
  {
   "cell_type": "code",
   "execution_count": 8,
   "metadata": {
    "collapsed": true
   },
   "outputs": [],
   "source": [
    "data = pd.DataFrame(data_dict)\n",
    "data = data.reset_index().transpose()\n",
    "data.rename(columns = {0:'ngo_name', 1:'text', 2:'language'} , inplace=True)"
   ]
  },
  {
   "cell_type": "code",
   "execution_count": 12,
   "metadata": {},
   "outputs": [],
   "source": [
    "data.to_csv('vz_data.csv')"
   ]
  }
 ],
 "metadata": {
  "kernelspec": {
   "display_name": "Python 3",
   "language": "python",
   "name": "python3"
  },
  "language_info": {
   "codemirror_mode": {
    "name": "ipython",
    "version": 3
   },
   "file_extension": ".py",
   "mimetype": "text/x-python",
   "name": "python",
   "nbconvert_exporter": "python",
   "pygments_lexer": "ipython3",
   "version": "3.6.2"
  }
 },
 "nbformat": 4,
 "nbformat_minor": 2
}
