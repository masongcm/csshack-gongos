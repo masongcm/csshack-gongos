{
 "cells": [
  {
   "cell_type": "code",
   "execution_count": 1,
   "metadata": {},
   "outputs": [],
   "source": [
    "import pandas as pd\n",
    "from scrape_functions import extract_to_dict\n",
    "from preprocess_functions import preprocess"
   ]
  },
  {
   "cell_type": "markdown",
   "metadata": {},
   "source": [
    "### Preprocess NGO text"
   ]
  },
  {
   "cell_type": "code",
   "execution_count": 2,
   "metadata": {},
   "outputs": [],
   "source": [
    "vz_data = pd.read_csv('vz_raw_text.csv')"
   ]
  },
  {
   "cell_type": "code",
   "execution_count": 3,
   "metadata": {},
   "outputs": [],
   "source": [
    "text_p = []\n",
    "for index, row in vz_data.iterrows():\n",
    "    text_p.append(preprocess(row[\"text\"], language=row[\"language\"])[0])\n",
    "vz_data['text_p'] = text_p"
   ]
  },
  {
   "cell_type": "code",
   "execution_count": 10,
   "metadata": {},
   "outputs": [],
   "source": [
    "vz_data = vz_data.drop('Unnamed: 0', axis=1)\n",
    "vz_data.to_csv('../data/vz/vz_ngos_stems.csv')"
   ]
  },
  {
   "cell_type": "markdown",
   "metadata": {},
   "source": [
    "### Preprocess official national reports"
   ]
  },
  {
   "cell_type": "code",
   "execution_count": 13,
   "metadata": {},
   "outputs": [],
   "source": [
    "# english\n",
    "with open('../data/vz/vz_national_report_eng.txt','r') as f:\n",
    "    vz_national_eng = f.read()\n",
    "vz_national_stems_eng = preprocess(vz_national_eng, language='english')[0]\n",
    "with open('../data/vz/vz_national_stems_eng.txt','w') as f:\n",
    "    f.write(vz_national_stems_eng)"
   ]
  },
  {
   "cell_type": "code",
   "execution_count": 21,
   "metadata": {},
   "outputs": [],
   "source": [
    "# spanish\n",
    "with open('../data/vz/vz_national_report_spa.txt','r') as f:\n",
    "    vz_national_spa = f.read()\n",
    "vz_national_stems_spa = preprocess(vz_national_spa, language='spanish')[0]\n",
    "with open('../data/vz/vz_national_stems_spa.txt','w') as f:\n",
    "    f.write(vz_national_stems_spa)"
   ]
  },
  {
   "cell_type": "code",
   "execution_count": 20,
   "metadata": {},
   "outputs": [],
   "source": []
  },
  {
   "cell_type": "code",
   "execution_count": null,
   "metadata": {},
   "outputs": [],
   "source": []
  }
 ],
 "metadata": {
  "kernelspec": {
   "display_name": "Python 3",
   "language": "python",
   "name": "python3"
  },
  "language_info": {
   "codemirror_mode": {
    "name": "ipython",
    "version": 3
   },
   "file_extension": ".py",
   "mimetype": "text/x-python",
   "name": "python",
   "nbconvert_exporter": "python",
   "pygments_lexer": "ipython3",
   "version": "3.6.1"
  }
 },
 "nbformat": 4,
 "nbformat_minor": 2
}
