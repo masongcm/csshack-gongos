{
 "cells": [
  {
   "cell_type": "code",
   "execution_count": 1,
   "metadata": {},
   "outputs": [],
   "source": [
    "import pandas as pd\n",
    "from ohchr_scrape import ohchr_scrape\n",
    "from download_pdf import download_pdf\n",
    "import requests\n",
    "import time"
   ]
  },
  {
   "cell_type": "code",
   "execution_count": 2,
   "metadata": {},
   "outputs": [
    {
     "name": "stdout",
     "output_type": "stream",
     "text": [
      "error for pdf url for row 2\n",
      "error for pdf url for row 42\n",
      "error for pdf url for row 447\n",
      "error for pdf url for row 2\n"
     ]
    }
   ],
   "source": [
    "# URL for two example states (Venezuela and Benin)\n",
    "url_vz = \"http://www.ohchr.org/EN/HRBodies/UPR/Pages/UPRVEStakeholdersInfoS12.aspx\"\n",
    "vz_orgs = ohchr_scrape(url_vz)\n",
    "\n",
    "url_benin = \"http://www.ohchr.org/EN/HRBodies/UPR/Pages/UPRBeninStakeholderInfoS14.aspx\"\n",
    "benin_orgs = ohchr_scrape(url_benin)"
   ]
  },
  {
   "cell_type": "code",
   "execution_count": 3,
   "metadata": {},
   "outputs": [
    {
     "data": {
      "text/html": [
       "<div>\n",
       "<style>\n",
       "    .dataframe thead tr:only-child th {\n",
       "        text-align: right;\n",
       "    }\n",
       "\n",
       "    .dataframe thead th {\n",
       "        text-align: left;\n",
       "    }\n",
       "\n",
       "    .dataframe tbody tr th {\n",
       "        vertical-align: top;\n",
       "    }\n",
       "</style>\n",
       "<table border=\"1\" class=\"dataframe\">\n",
       "  <thead>\n",
       "    <tr style=\"text-align: right;\">\n",
       "      <th></th>\n",
       "      <th>name</th>\n",
       "      <th>pdf</th>\n",
       "    </tr>\n",
       "  </thead>\n",
       "  <tbody>\n",
       "    <tr>\n",
       "      <th>1</th>\n",
       "      <td>AC - Agora Constitucional</td>\n",
       "      <td>http://lib.ohchr.org/HRBodies/UPR/Documents/se...</td>\n",
       "    </tr>\n",
       "    <tr>\n",
       "      <th>2</th>\n",
       "      <td>ACC - Asociación Clara Campoamor</td>\n",
       "      <td>http://lib.ohchr.org/HRBodies/UPR/Documents/se...</td>\n",
       "    </tr>\n",
       "    <tr>\n",
       "      <th>3</th>\n",
       "      <td>ACCESO -Acceso Justicia</td>\n",
       "      <td>http://lib.ohchr.org/HRBodies/UPR/Documents/se...</td>\n",
       "    </tr>\n",
       "    <tr>\n",
       "      <th>4</th>\n",
       "      <td>ACCR - Asociación Colectivo Colombianos Refugi...</td>\n",
       "      <td>http://lib.ohchr.org/HRBodies/UPR/Documents/se...</td>\n",
       "    </tr>\n",
       "    <tr>\n",
       "      <th>5</th>\n",
       "      <td>ACD11 - Asociación Comunitaria Distrito 11</td>\n",
       "      <td>http://lib.ohchr.org/HRBodies/UPR/Documents/se...</td>\n",
       "    </tr>\n",
       "  </tbody>\n",
       "</table>\n",
       "</div>"
      ],
      "text/plain": [
       "                                                name  \\\n",
       "1                          AC - Agora Constitucional   \n",
       "2                   ACC - Asociación Clara Campoamor   \n",
       "3                            ACCESO -Acceso Justicia   \n",
       "4  ACCR - Asociación Colectivo Colombianos Refugi...   \n",
       "5         ACD11 - Asociación Comunitaria Distrito 11   \n",
       "\n",
       "                                                 pdf  \n",
       "1  http://lib.ohchr.org/HRBodies/UPR/Documents/se...  \n",
       "2  http://lib.ohchr.org/HRBodies/UPR/Documents/se...  \n",
       "3  http://lib.ohchr.org/HRBodies/UPR/Documents/se...  \n",
       "4  http://lib.ohchr.org/HRBodies/UPR/Documents/se...  \n",
       "5  http://lib.ohchr.org/HRBodies/UPR/Documents/se...  "
      ]
     },
     "execution_count": 3,
     "metadata": {},
     "output_type": "execute_result"
    }
   ],
   "source": [
    "vz_orgs.head()"
   ]
  },
  {
   "cell_type": "code",
   "execution_count": null,
   "metadata": {},
   "outputs": [],
   "source": [
    "filenames = []\n",
    "for index, row in vz_orgs.iterrows():\n",
    "    pdfurl = row['pdf']\n",
    "    orgname = row['name']\n",
    "    try:\n",
    "        filename = 'pdf/vz/' + \"_\".join(orgname.split()) + '.pdf'\n",
    "        filenames.append(filename)\n",
    "        #print('Downloading ' + orgname + ' at ' + pdfurl)\n",
    "        download_pdf(pdfurl, filename)\n",
    "        print('Downloaded ' + orgname)\n",
    "    except:\n",
    "        print('Skipping ' + orgname)\n",
    "    time.sleep(1)"
   ]
  },
  {
   "cell_type": "code",
   "execution_count": null,
   "metadata": {},
   "outputs": [],
   "source": [
    "vz_orgs['file'] = filenames"
   ]
  }
 ],
 "metadata": {
  "kernelspec": {
   "display_name": "Python 3",
   "language": "python",
   "name": "python3"
  },
  "language_info": {
   "codemirror_mode": {
    "name": "ipython",
    "version": 3
   },
   "file_extension": ".py",
   "mimetype": "text/x-python",
   "name": "python",
   "nbconvert_exporter": "python",
   "pygments_lexer": "ipython3",
   "version": "3.6.1"
  }
 },
 "nbformat": 4,
 "nbformat_minor": 2
}
