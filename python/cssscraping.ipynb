{
 "cells": [
  {
   "cell_type": "code",
   "execution_count": 11,
   "metadata": {},
   "outputs": [],
   "source": [
    "import requests\n",
    "import pandas as pd\n",
    "import re\n",
    "from bs4 import BeautifulSoup"
   ]
  },
  {
   "cell_type": "code",
   "execution_count": 14,
   "metadata": {},
   "outputs": [],
   "source": [
    "# retrieve page code\n",
    "url_vz = \"http://www.ohchr.org/EN/HRBodies/UPR/Pages/UPRVEStakeholdersInfoS12.aspx\"\n",
    "with requests.Session() as s:\n",
    "    html_vz = s.get(url_vz)\n",
    "\n"
   ]
  },
  {
   "cell_type": "code",
   "execution_count": 29,
   "metadata": {},
   "outputs": [],
   "source": [
    "soup = BeautifulSoup(html_vz.text, 'html5lib')\n",
    "table = soup.findAll('table')[1]\n"
   ]
  },
  {
   "cell_type": "code",
   "execution_count": 63,
   "metadata": {},
   "outputs": [],
   "source": [
    "orgs = []"
   ]
  },
  {
   "cell_type": "code",
   "execution_count": 76,
   "metadata": {},
   "outputs": [
    {
     "name": "stdout",
     "output_type": "stream",
     "text": [
      "cannot find name for row 2\n",
      "error for pdf url for row 2\n",
      "cannot find name for row 42\n",
      "error for pdf url for row 42\n",
      "cannot find name for row 447\n",
      "error for pdf url for row 447\n"
     ]
    }
   ],
   "source": [
    "i = 1\n",
    "for table_row in table.findAll(\"tr\"):   # loop through table rows\n",
    "    # Each table row has a set of table cells, or tds\n",
    "    table_cells = table_row.findAll('td')\n",
    "    if len(table_cells) > 0:\n",
    "        org = {} # dictionary storing organisation\n",
    "        try: \n",
    "            org['name'] = table_cells[1].find('a')['title']\n",
    "        except:\n",
    "            print('cannot find name for row ' + str(i))\n",
    "        try:\n",
    "            org['pdf'] = table_cells[1].find('a')['href']\n",
    "        except: \n",
    "            print('error for pdf url for row ' + str(i))\n",
    "        orgs.append(org)\n",
    "    i=i+1"
   ]
  },
  {
   "cell_type": "code",
   "execution_count": 79,
   "metadata": {},
   "outputs": [],
   "source": [
    "dforgs = pd.DataFrame(orgs) #, columns=['Date', 'DateValue'])"
   ]
  },
  {
   "cell_type": "code",
   "execution_count": 81,
   "metadata": {},
   "outputs": [],
   "source": [
    "dforgs.to_csv('orgs.csv')"
   ]
  }
 ],
 "metadata": {
  "kernelspec": {
   "display_name": "Python 3",
   "language": "python",
   "name": "python3"
  },
  "language_info": {
   "codemirror_mode": {
    "name": "ipython",
    "version": 3
   },
   "file_extension": ".py",
   "mimetype": "text/x-python",
   "name": "python",
   "nbconvert_exporter": "python",
   "pygments_lexer": "ipython3",
   "version": "3.6.1"
  }
 },
 "nbformat": 4,
 "nbformat_minor": 2
}
