{
 "cells": [
  {
   "cell_type": "code",
   "execution_count": 21,
   "metadata": {},
   "outputs": [],
   "source": [
    "import pandas as pd\n",
    "from scrape_functions import ohchr_scrape\n",
    "from scrape_functions import download_pdf\n",
    "import requests\n",
    "import time\n",
    "import re\n",
    "import random\n",
    "random.seed(42)"
   ]
  },
  {
   "cell_type": "code",
   "execution_count": 22,
   "metadata": {},
   "outputs": [
    {
     "name": "stdout",
     "output_type": "stream",
     "text": [
      "error for pdf url for row 2\n",
      "error for pdf url for row 42\n",
      "error for pdf url for row 447\n",
      "error for pdf url for row 2\n"
     ]
    }
   ],
   "source": [
    "# URL for two example states (Venezuela and Benin)\n",
    "url_vz = \"http://www.ohchr.org/EN/HRBodies/UPR/Pages/UPRVEStakeholdersInfoS12.aspx\"\n",
    "vz_orgs = ohchr_scrape(url_vz)\n",
    "\n",
    "url_benin = \"http://www.ohchr.org/EN/HRBodies/UPR/Pages/UPRBeninStakeholderInfoS14.aspx\"\n",
    "benin_orgs = ohchr_scrape(url_benin)"
   ]
  },
  {
   "cell_type": "code",
   "execution_count": 23,
   "metadata": {},
   "outputs": [
    {
     "data": {
      "text/plain": [
       "array(['spa', 'eng', '', 'fr.'], dtype=object)"
      ]
     },
     "execution_count": 23,
     "metadata": {},
     "output_type": "execute_result"
    }
   ],
   "source": [
    "# get language\n",
    "langs = []\n",
    "for index, row in vz_orgs.iterrows():\n",
    "    string = str(row['pdf'])\n",
    "    lang = re.findall('-+[a-z]+.pdf',string)\n",
    "    if len(lang)>0:\n",
    "        langs.append(lang[0][1:4])\n",
    "    else:\n",
    "        langs.append('')\n",
    "\n",
    "vz_orgs['lang'] = langs\n",
    "vz_orgs['lang'].unique()"
   ]
  },
  {
   "cell_type": "code",
   "execution_count": 25,
   "metadata": {},
   "outputs": [],
   "source": [
    "# get subsample\n",
    "vz_orgs_subset = vz_orgs.sample(20)"
   ]
  },
  {
   "cell_type": "code",
   "execution_count": 26,
   "metadata": {},
   "outputs": [
    {
     "name": "stdout",
     "output_type": "stream",
     "text": [
      "Downloaded FERINE - Federación Estatal Asociaciones Inmigrantes Refugiados\n",
      "Downloaded C.C. Blanquita de Pérez\n",
      "Downloaded CSUTC - Pantaleon - Central Sindical Unica Trabajadores\n",
      "Downloaded C.C. Buenos Aires Nueva Esparta\n",
      "Downloaded EFIP - Equipo Formación Información Publicaciones\n",
      "Downloaded C.C. Santa Eduviges Sector 8\n",
      "Downloaded Fundación Reflejos\n",
      "Downloaded Collectif Education\n",
      "Downloaded VMTA - Vocera Mesas Técnicas Aguas\n",
      "Downloaded FOCPEDD - LP - Federación Org Comunitarias Discapacidad\n",
      "Downloaded Sala Batalla Arichuna\n",
      "Downloaded UE - Universidad Extremadura\n",
      "Downloaded C.C. El Castaño\n",
      "Downloaded C.C. La Muchachera\n",
      "Downloaded C.C. El Hatico\n",
      "Downloaded C.C. Los Próceres de Torbes\n",
      "Downloaded Base de Paz\n",
      "Downloaded C.C. Bolívar Guabina I\n",
      "Downloaded Kuru Kururu - Farmers Association\n",
      "Downloaded C.C. Cruz de Mayo\n"
     ]
    }
   ],
   "source": [
    "filenames = []\n",
    "for index, row in vz_orgs_subset.iterrows():\n",
    "    pdfurl = row['pdf']\n",
    "    orgname = row['name']\n",
    "    try:\n",
    "        filename = 'pdf/vz/' + \"_\".join(orgname.split()) + '.pdf'\n",
    "        filenames.append(filename)\n",
    "        download_pdf(pdfurl, filename)\n",
    "        print('Downloaded ' + orgname)\n",
    "    except:\n",
    "        print('Skipping ' + orgname)\n",
    "    time.sleep(.5)\n",
    "vz_orgs_subset['file'] = filenames"
   ]
  },
  {
   "cell_type": "code",
   "execution_count": 28,
   "metadata": {},
   "outputs": [],
   "source": [
    "vz_orgs_subset.to_csv('orgs_vz_subset.csv')"
   ]
  },
  {
   "cell_type": "code",
   "execution_count": null,
   "metadata": {},
   "outputs": [],
   "source": []
  },
  {
   "cell_type": "code",
   "execution_count": null,
   "metadata": {},
   "outputs": [],
   "source": []
  }
 ],
 "metadata": {
  "kernelspec": {
   "display_name": "Python 3",
   "language": "python",
   "name": "python3"
  },
  "language_info": {
   "codemirror_mode": {
    "name": "ipython",
    "version": 3
   },
   "file_extension": ".py",
   "mimetype": "text/x-python",
   "name": "python",
   "nbconvert_exporter": "python",
   "pygments_lexer": "ipython3",
   "version": "3.6.1"
  }
 },
 "nbformat": 4,
 "nbformat_minor": 2
}
