{
 "cells": [
  {
   "cell_type": "code",
   "execution_count": 1,
   "metadata": {},
   "outputs": [],
   "source": [
    "import pandas as pd\n",
    "from ohchr_scrape import ohchr_scrape"
   ]
  },
  {
   "cell_type": "code",
   "execution_count": 4,
   "metadata": {},
   "outputs": [
    {
     "name": "stdout",
     "output_type": "stream",
     "text": [
      "error for pdf url for row 2\n",
      "error for pdf url for row 42\n",
      "error for pdf url for row 447\n",
      "error for pdf url for row 2\n"
     ]
    }
   ],
   "source": [
    "# URL for two example states (Venezuela and Benin)\n",
    "url_vz = \"http://www.ohchr.org/EN/HRBodies/UPR/Pages/UPRVEStakeholdersInfoS12.aspx\"\n",
    "vz_orgs = ohchr_scrape(url_vz)\n",
    "\n",
    "url_benin = \"http://www.ohchr.org/EN/HRBodies/UPR/Pages/UPRBeninStakeholderInfoS14.aspx\"\n",
    "benin_orgs = ohchr_scrape(url_benin)"
   ]
  },
  {
   "cell_type": "code",
   "execution_count": 5,
   "metadata": {},
   "outputs": [
    {
     "data": {
      "text/html": [
       "<div>\n",
       "<style>\n",
       "    .dataframe thead tr:only-child th {\n",
       "        text-align: right;\n",
       "    }\n",
       "\n",
       "    .dataframe thead th {\n",
       "        text-align: left;\n",
       "    }\n",
       "\n",
       "    .dataframe tbody tr th {\n",
       "        vertical-align: top;\n",
       "    }\n",
       "</style>\n",
       "<table border=\"1\" class=\"dataframe\">\n",
       "  <thead>\n",
       "    <tr style=\"text-align: right;\">\n",
       "      <th></th>\n",
       "      <th>name</th>\n",
       "      <th>pdf</th>\n",
       "    </tr>\n",
       "  </thead>\n",
       "  <tbody>\n",
       "    <tr>\n",
       "      <th>1</th>\n",
       "      <td>ARTICLE 19</td>\n",
       "      <td>http://lib.ohchr.org/HRBodies/UPR/Documents/Se...</td>\n",
       "    </tr>\n",
       "    <tr>\n",
       "      <th>2</th>\n",
       "      <td>Autre Vie</td>\n",
       "      <td>http://lib.ohchr.org/HRBodies/UPR/Documents/Se...</td>\n",
       "    </tr>\n",
       "    <tr>\n",
       "      <th>3</th>\n",
       "      <td>FI - Franciscans International</td>\n",
       "      <td>http://lib.ohchr.org/HRBodies/UPR/Documents/Se...</td>\n",
       "    </tr>\n",
       "    <tr>\n",
       "      <th>4</th>\n",
       "      <td>GIEACPC - Global Initiative to End All Corpora...</td>\n",
       "      <td>http://lib.ohchr.org/HRBodies/UPR/Documents/Se...</td>\n",
       "    </tr>\n",
       "    <tr>\n",
       "      <th>5</th>\n",
       "      <td>JS 1 - Joint Submission</td>\n",
       "      <td>http://lib.ohchr.org/HRBodies/UPR/Documents/Se...</td>\n",
       "    </tr>\n",
       "  </tbody>\n",
       "</table>\n",
       "</div>"
      ],
      "text/plain": [
       "                                                name  \\\n",
       "1                                         ARTICLE 19   \n",
       "2                                          Autre Vie   \n",
       "3                     FI - Franciscans International   \n",
       "4  GIEACPC - Global Initiative to End All Corpora...   \n",
       "5                            JS 1 - Joint Submission   \n",
       "\n",
       "                                                 pdf  \n",
       "1  http://lib.ohchr.org/HRBodies/UPR/Documents/Se...  \n",
       "2  http://lib.ohchr.org/HRBodies/UPR/Documents/Se...  \n",
       "3  http://lib.ohchr.org/HRBodies/UPR/Documents/Se...  \n",
       "4  http://lib.ohchr.org/HRBodies/UPR/Documents/Se...  \n",
       "5  http://lib.ohchr.org/HRBodies/UPR/Documents/Se...  "
      ]
     },
     "execution_count": 5,
     "metadata": {},
     "output_type": "execute_result"
    }
   ],
   "source": [
    "vz_orgs.head()"
   ]
  }
 ],
 "metadata": {
  "kernelspec": {
   "display_name": "Python 3",
   "language": "python",
   "name": "python3"
  },
  "language_info": {
   "codemirror_mode": {
    "name": "ipython",
    "version": 3
   },
   "file_extension": ".py",
   "mimetype": "text/x-python",
   "name": "python",
   "nbconvert_exporter": "python",
   "pygments_lexer": "ipython3",
   "version": "3.6.1"
  }
 },
 "nbformat": 4,
 "nbformat_minor": 2
}
