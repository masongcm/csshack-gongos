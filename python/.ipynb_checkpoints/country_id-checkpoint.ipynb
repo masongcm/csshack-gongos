{
 "cells": [
  {
   "cell_type": "code",
   "execution_count": 23,
   "metadata": {},
   "outputs": [
    {
     "name": "stdout",
     "output_type": "stream",
     "text": [
      "['http://www.ohchr.org/EN/HRBodies/UPR/_layouts/15/Authenticate.aspx?Source=%2FEN%2FHRBodies%2FUPR%2FPages%2FDocumentation%2Easpx', 'http://ohchr.org/', 'http://www.ohchr.org/EN/HRBodies/UPR/Pages/Documentation.aspx', 'http://www.ohchr.org/FR/HRBodies/UPR/Pages/Documentation.aspx', 'http://www.ohchr.org/SP/HRBodies/UPR/Pages/Documentation.aspx', 'http://www.ohchr.org/RU/HRBodies/UPR/Pages/Documentation.aspx', 'http://www.ohchr.org/AR/HRBodies/UPR/Pages/Documentation.aspx', 'http://www.ohchr.org/CH/HRBodies/UPR/Pages/Documentation.aspx', 'http://ohchr.org/', 'http://www.ohchr.org/EN/HRBodies/UPR/Pages/AFIndex.aspx', 'http://www.ohchr.org/EN/HRBodies/UPR/Pages/ALIndex.aspx', 'http://www.ohchr.org/EN/HRBodies/UPR/Pages/DZIndex.aspx', 'http://www.ohchr.org/EN/HRBodies/UPR/Pages/ADIndex.aspx', 'http://www.ohchr.org/EN/HRBodies/UPR/Pages/AOIndex.aspx', 'http://www.ohchr.org/EN/HRBodies/UPR/Pages/AGIndex.aspx', 'http://www.ohchr.org/EN/HRBodies/UPR/Pages/ARIndex.aspx', 'http://www.ohchr.org/EN/HRBodies/UPR/Pages/AMIndex.aspx', 'http://www.ohchr.org/EN/HRBodies/UPR/Pages/AUIndex.aspx', 'http://www.ohchr.org/EN/HRBodies/UPR/Pages/ATIndex.aspx', 'http://www.ohchr.org/EN/HRBodies/UPR/Pages/AZIndex.aspx', 'http://www.ohchr.org/EN/HRBodies/UPR/Pages/BSIndex.aspx', 'http://www.ohchr.org/EN/HRBodies/UPR/Pages/BHIndex.aspx', 'http://www.ohchr.org/EN/HRBodies/UPR/Pages/BDIndex.aspx', 'http://www.ohchr.org/EN/HRBodies/UPR/Pages/BBIndex.aspx', 'http://www.ohchr.org/EN/HRBodies/UPR/Pages/BYIndex.aspx', 'http://www.ohchr.org/EN/HRBodies/UPR/Pages/BEIndex.aspx', 'http://www.ohchr.org/EN/HRBodies/UPR/Pages/BZIndex.aspx', 'http://www.ohchr.org/EN/HRBodies/UPR/Pages/BJIndex.aspx', 'http://www.ohchr.org/EN/HRBodies/UPR/Pages/BTIndex.aspx', 'http://www.ohchr.org/EN/HRBodies/UPR/Pages/BOIndex.aspx', 'http://www.ohchr.org/EN/HRBodies/UPR/Pages/BAIndex.aspx', 'http://www.ohchr.org/EN/HRBodies/UPR/Pages/BWIndex.aspx', 'http://www.ohchr.org/EN/HRBodies/UPR/Pages/BRIndex.aspx', 'http://www.ohchr.org/EN/HRBodies/UPR/Pages/BNIndex.aspx', 'http://www.ohchr.org/EN/HRBodies/UPR/Pages/BGIndex.aspx', 'http://www.ohchr.org/EN/HRBodies/UPR/Pages/BFIndex.aspx', 'http://www.ohchr.org/EN/HRBodies/UPR/Pages/BIIndex.aspx', 'http://www.ohchr.org/EN/HRBodies/UPR/Pages/CVIndex.aspx', 'http://www.ohchr.org/EN/HRBodies/UPR/Pages/KHIndex.aspx', 'http://www.ohchr.org/EN/HRBodies/UPR/Pages/CMIndex.aspx', 'http://www.ohchr.org/EN/HRBodies/UPR/Pages/CAIndex.aspx', 'http://www.ohchr.org/EN/HRBodies/UPR/Pages/CFIndex.aspx', 'http://www.ohchr.org/EN/HRBodies/UPR/Pages/TDindex.aspx', 'http://www.ohchr.org/EN/HRBodies/UPR/Pages/CLIndex.aspx', 'http://www.ohchr.org/EN/HRBodies/UPR/Pages/CNIndex.aspx', 'http://www.ohchr.org/EN/HRBodies/UPR/Pages/COIndex.aspx', 'http://www.ohchr.org/EN/HRBodies/UPR/Pages/KMIndex.aspx', 'http://www.ohchr.org/EN/HRBodies/UPR/Pages/CGIndex.aspx', 'http://www.ohchr.org/EN/HRBodies/UPR/Pages/CRIndex.aspx', 'http://www.ohchr.org/EN/HRBodies/UPR/Pages/CIIndex.aspx', 'http://www.ohchr.org/EN/HRBodies/UPR/Pages/HRIndex.aspx', 'http://www.ohchr.org/EN/HRBodies/UPR/Pages/CUIndex.aspx', 'http://www.ohchr.org/EN/HRBodies/UPR/Pages/CYIndex.aspx', 'http://www.ohchr.org/EN/HRBodies/UPR/Pages/CZIndex.aspx', 'http://www.ohchr.org/EN/HRBodies/UPR/Pages/KPIndex.aspx', 'http://www.ohchr.org/EN/HRBodies/UPR/Pages/CDIndex.aspx', 'http://www.ohchr.org/EN/HRBodies/UPR/Pages/DKIndex.aspx', 'http://www.ohchr.org/EN/HRBodies/UPR/Pages/DJIndex.aspx', 'http://www.ohchr.org/EN/HRBodies/UPR/Pages/DMIndex.aspx', 'http://www.ohchr.org/EN/HRBodies/UPR/Pages/DOIndex.aspx', 'http://www.ohchr.org/EN/HRBodies/UPR/Pages/ECIndex.aspx', 'http://www.ohchr.org/EN/HRBodies/UPR/Pages/EGIndex.aspx', 'http://www.ohchr.org/EN/HRBodies/UPR/Pages/SVindex.aspx', 'http://www.ohchr.org/EN/HRBodies/UPR/Pages/GQIndex.aspx', 'http://www.ohchr.org/EN/HRBodies/UPR/Pages/ERIndex.aspx', 'http://www.ohchr.org/EN/HRBodies/UPR/Pages/EEIndex.aspx', 'http://www.ohchr.org/EN/HRBodies/UPR/Pages/ETIndex.aspx', 'http://www.ohchr.org/EN/HRBodies/UPR/Pages/FJIndex.aspx', 'http://www.ohchr.org/EN/HRBodies/UPR/Pages/FIIndex.aspx', 'http://www.ohchr.org/EN/HRBodies/UPR/Pages/FRIndex.aspx', 'http://www.ohchr.org/EN/HRBodies/UPR/Pages/GAIndex.aspx', 'http://www.ohchr.org/EN/HRBodies/UPR/Pages/GMIndex.aspx', 'http://www.ohchr.org/EN/HRBodies/UPR/Pages/GEIndex.aspx', 'http://www.ohchr.org/EN/HRBodies/UPR/Pages/DEIndex.aspx', 'http://www.ohchr.org/EN/HRBodies/UPR/Pages/GHIndex.aspx', 'http://www.ohchr.org/EN/HRBodies/UPR/Pages/GRIndex.aspx', 'http://www.ohchr.org/EN/HRBodies/UPR/Pages/GDIndex.aspx', 'http://www.ohchr.org/EN/HRBodies/UPR/Pages/GTIndex.aspx', 'http://www.ohchr.org/EN/HRBodies/UPR/Pages/GNIndex.aspx', 'http://www.ohchr.org/EN/HRBodies/UPR/Pages/GWIndex.aspx', 'http://www.ohchr.org/EN/HRBodies/UPR/Pages/GYIndex.aspx', 'http://www.ohchr.org/EN/HRBodies/UPR/Pages/HTIndex.aspx', 'http://www.ohchr.org/EN/HRBodies/UPR/Pages/HNIndex.aspx', 'http://www.ohchr.org/EN/HRBodies/UPR/Pages/HUIndex.aspx', 'http://www.ohchr.org/EN/HRBodies/UPR/Pages/ISIndex.aspx', 'http://www.ohchr.org/EN/HRBodies/UPR/Pages/INIndex.aspx', 'http://www.ohchr.org/EN/HRBodies/UPR/Pages/IDIndex.aspx', 'http://www.ohchr.org/EN/HRBodies/UPR/Pages/IRIndex.aspx', 'http://www.ohchr.org/EN/HRBodies/UPR/Pages/IQIndex.aspx', 'http://www.ohchr.org/EN/HRBodies/UPR/Pages/IEIndex.aspx', 'http://www.ohchr.org/EN/HRBodies/UPR/Pages/ILIndex.aspx', 'http://www.ohchr.org/EN/HRBodies/UPR/Pages/ITIndex.aspx', 'http://www.ohchr.org/EN/HRBodies/UPR/Pages/JMIndex.aspx', 'http://www.ohchr.org/EN/HRBodies/UPR/Pages/JPIndex.aspx', 'http://www.ohchr.org/EN/HRBodies/UPR/Pages/JOIndex.aspx', 'http://www.ohchr.org/EN/HRBodies/UPR/Pages/KZIndex.aspx', 'http://www.ohchr.org/EN/HRBodies/UPR/Pages/KEIndex.aspx', 'http://www.ohchr.org/EN/HRBodies/UPR/Pages/KIIndex.aspx', 'http://www.ohchr.org/EN/HRBodies/UPR/Pages/KWIndex.aspx', 'http://www.ohchr.org/EN/HRBodies/UPR/Pages/KGIndex.aspx', 'http://www.ohchr.org/EN/HRBodies/UPR/Pages/LAIndex.aspx', 'http://www.ohchr.org/EN/HRBodies/UPR/Pages/LVIndex.aspx', 'http://www.ohchr.org/EN/HRBodies/UPR/Pages/LBIndex.aspx', 'http://www.ohchr.org/EN/HRBodies/UPR/Pages/LSIndex.aspx', 'http://www.ohchr.org/EN/HRBodies/UPR/Pages/LRIndex.aspx', 'http://www.ohchr.org/EN/HRBodies/UPR/Pages/LYIndex.aspx', 'http://www.ohchr.org/EN/HRBodies/UPR/Pages/LIIndex.aspx', 'http://www.ohchr.org/EN/HRBodies/UPR/Pages/LTIndex.aspx', 'http://www.ohchr.org/EN/HRBodies/UPR/Pages/LUIndex.aspx', 'http://www.ohchr.org/EN/HRBodies/UPR/Pages/MGIndex.aspx', 'http://www.ohchr.org/EN/HRBodies/UPR/Pages/MWindex.aspx', 'http://www.ohchr.org/EN/HRBodies/UPR/Pages/MYindex.aspx', 'http://www.ohchr.org/EN/HRBodies/UPR/Pages/MVIndex.aspx', 'http://www.ohchr.org/EN/HRBodies/UPR/Pages/MLIndex.aspx', 'http://www.ohchr.org/EN/HRBodies/UPR/Pages/MTIndex.aspx', 'http://www.ohchr.org/EN/HRBodies/UPR/Pages/MHIndex.aspx', 'http://www.ohchr.org/EN/HRBodies/UPR/Pages/MRIndex.aspx', 'http://www.ohchr.org/EN/HRBodies/UPR/Pages/MUindex.aspx', 'http://www.ohchr.org/EN/HRBodies/UPR/Pages/MXindex.aspx', 'http://www.ohchr.org/EN/HRBodies/UPR/Pages/FMIndex.aspx', 'http://www.ohchr.org/EN/HRBodies/UPR/Pages/MCIndex.aspx', 'http://www.ohchr.org/EN/HRBodies/UPR/Pages/MNIndex.aspx', 'http://www.ohchr.org/EN/HRBodies/UPR/Pages/MEIndex.aspx', 'http://www.ohchr.org/EN/HRBodies/UPR/Pages/MAIndex.aspx', 'http://www.ohchr.org/EN/HRBodies/UPR/Pages/MZindex.aspx', 'http://www.ohchr.org/EN/HRBodies/UPR/Pages/MMIndex.aspx', 'http://www.ohchr.org/EN/HRBodies/UPR/Pages/NAindex.aspx', 'http://www.ohchr.org/EN/HRBodies/UPR/Pages/NRindex.aspx', 'http://www.ohchr.org/EN/HRBodies/UPR/Pages/NPindex.aspx', 'http://www.ohchr.org/EN/HRBodies/UPR/Pages/NLIndex.aspx', 'http://www.ohchr.org/EN/HRBodies/UPR/Pages/NZindex.aspx', 'http://www.ohchr.org/EN/HRBodies/UPR/Pages/NIindex.aspx', 'http://www.ohchr.org/EN/HRBodies/UPR/Pages/NEindex.aspx', 'http://www.ohchr.org/EN/HRBodies/UPR/Pages/NGindex.aspx', 'http://www.ohchr.org/EN/HRBodies/UPR/Pages/NOindex.aspx', 'http://www.ohchr.org/EN/HRBodies/UPR/Pages/OMindex.aspx', 'http://www.ohchr.org/EN/HRBodies/UPR/Pages/PKindex.aspx', 'http://www.ohchr.org/EN/HRBodies/UPR/Pages/PWindex.aspx', 'http://www.ohchr.org/EN/HRBodies/UPR/Pages/PAindex.aspx', 'http://www.ohchr.org/EN/HRBodies/UPR/Pages/PGindex.aspx', 'http://www.ohchr.org/EN/HRBodies/UPR/Pages/PYindex.aspx', 'http://www.ohchr.org/EN/HRBodies/UPR/Pages/PEindex.aspx', 'http://www.ohchr.org/EN/HRBodies/UPR/Pages/PHIndex.aspx', 'http://www.ohchr.org/EN/HRBodies/UPR/Pages/PLIndex.aspx', 'http://www.ohchr.org/EN/HRBodies/UPR/Pages/PTindex.aspx', 'http://www.ohchr.org/EN/HRBodies/UPR/Pages/QAindex.aspx', 'http://www.ohchr.org/EN/HRBodies/UPR/Pages/KRIndex.aspx', 'http://www.ohchr.org/EN/HRBodies/UPR/Pages/MDIndex.aspx', 'http://www.ohchr.org/EN/HRBodies/UPR/Pages/ROindex.aspx', 'http://www.ohchr.org/EN/HRBodies/UPR/Pages/RUindex.aspx', 'http://www.ohchr.org/EN/HRBodies/UPR/Pages/RWindex.aspx', 'http://www.ohchr.org/EN/HRBodies/UPR/Pages/KNIndex.aspx', 'http://www.ohchr.org/EN/HRBodies/UPR/Pages/LCIndex.aspx', 'http://www.ohchr.org/EN/HRBodies/UPR/Pages/VCIndex.aspx', 'http://www.ohchr.org/EN/HRBodies/UPR/Pages/WSIndex.aspx', 'http://www.ohchr.org/EN/HRBodies/UPR/Pages/SMindex.aspx', 'http://www.ohchr.org/EN/HRBodies/UPR/Pages/STindex.aspx', 'http://www.ohchr.org/EN/HRBodies/UPR/Pages/SAindex.aspx', 'http://www.ohchr.org/EN/HRBodies/UPR/Pages/SNindex.aspx', 'http://www.ohchr.org/EN/HRBodies/UPR/Pages/RSindex.aspx', 'http://www.ohchr.org/EN/HRBodies/UPR/Pages/SCIndex.aspx', 'http://www.ohchr.org/EN/HRBodies/UPR/Pages/SLindex.aspx', 'http://www.ohchr.org/EN/HRBodies/UPR/Pages/SGindex.aspx', 'http://www.ohchr.org/EN/HRBodies/UPR/Pages/SKindex.aspx', 'http://www.ohchr.org/EN/HRBodies/UPR/Pages/SIindex.aspx', 'http://www.ohchr.org/EN/HRBodies/UPR/Pages/SBIndex.aspx', 'http://www.ohchr.org/EN/HRBodies/UPR/Pages/SOindex.aspx', 'http://www.ohchr.org/EN/HRBodies/UPR/Pages/ZAIndex.aspx', 'http://www.ohchr.org/EN/HRBodies/UPR/Pages/SSindex.aspx', 'http://www.ohchr.org/EN/HRBodies/UPR/Pages/ESIndex.aspx', 'http://www.ohchr.org/EN/HRBodies/UPR/Pages/LKIndex.aspx', 'http://www.ohchr.org/EN/HRBodies/UPR/Pages/SDIndex.aspx', 'http://www.ohchr.org/EN/HRBodies/UPR/Pages/SRindex.aspx', 'http://www.ohchr.org/EN/HRBodies/UPR/Pages/SZindex.aspx', 'http://www.ohchr.org/EN/HRBodies/UPR/Pages/SEindex.aspx', 'http://www.ohchr.org/EN/HRBodies/UPR/Pages/CHIndex.aspx', 'http://www.ohchr.org/EN/HRBodies/UPR/Pages/SYindex.aspx', 'http://www.ohchr.org/EN/HRBodies/UPR/Pages/TJindex.aspx', 'http://www.ohchr.org/EN/HRBodies/UPR/Pages/THindex.aspx', 'http://www.ohchr.org/EN/HRBodies/UPR/Pages/MKIndex.aspx', 'http://www.ohchr.org/EN/HRBodies/UPR/Pages/TLIndex.aspx', 'http://www.ohchr.org/EN/HRBodies/UPR/Pages/TGindex.aspx', 'http://www.ohchr.org/EN/HRBodies/UPR/Pages/TOindex.aspx', 'http://www.ohchr.org/EN/HRBodies/UPR/Pages/TTindex.aspx', 'http://www.ohchr.org/EN/HRBodies/UPR/Pages/TNIndex.aspx', 'http://www.ohchr.org/EN/HRBodies/UPR/Pages/TRindex.aspx', 'http://www.ohchr.org/EN/HRBodies/UPR/Pages/TMindex.aspx', 'http://www.ohchr.org/EN/HRBodies/UPR/Pages/TVIndex.aspx', 'http://www.ohchr.org/EN/HRBodies/UPR/Pages/UGIndex.aspx', 'http://www.ohchr.org/EN/HRBodies/UPR/Pages/UAIndex.aspx', 'http://www.ohchr.org/EN/HRBodies/UPR/Pages/AEIndex.aspx', 'http://www.ohchr.org/EN/HRBodies/UPR/Pages/GBIndex.aspx', 'http://www.ohchr.org/EN/HRBodies/UPR/Pages/TZIndex.aspx', 'http://www.ohchr.org/EN/HRBodies/UPR/Pages/USIndex.aspx', 'http://www.ohchr.org/EN/HRBodies/UPR/Pages/UYIndex.aspx', 'http://www.ohchr.org/EN/HRBodies/UPR/Pages/UZIndex.aspx', 'http://www.ohchr.org/EN/HRBodies/UPR/Pages/VUIndex.aspx', 'http://www.ohchr.org/EN/HRBodies/UPR/Pages/VEIndex.aspx', 'http://www.ohchr.org/EN/HRBodies/UPR/Pages/VNIndex.aspx', 'http://www.ohchr.org/EN/HRBodies/UPR/Pages/YEIndex.aspx', 'http://www.ohchr.org/EN/HRBodies/UPR/Pages/ZMIndex.aspx', 'http://www.ohchr.org/EN/HRBodies/UPR/Pages/ZWIndex.aspx']\n"
     ]
    }
   ],
   "source": [
    "\n",
    "from bs4 import BeautifulSoup\n",
    "import requests\n",
    "import re\n",
    "\n",
    "r  = requests.get(\"http://www.ohchr.org/EN/HRBodies/UPR/Pages/Documentation.aspx\")\n",
    "\n",
    "data = r.text\n",
    "\n",
    "soup = BeautifulSoup(data, \"lxml\")\n",
    "table = soup.findAll('table')[1]\n",
    "links = []\n",
    "\n",
    "for link in soup.findAll('a', attrs={'href': re.compile(\"^http://\")}):\n",
    "    links.append(link.get('href'))\n",
    "    \n",
    "print(links)\n",
    "\n",
    "\n",
    "    i = 1\n",
    "    for table_row in table.findAll(\"tr\"):   # loop through table rows\n",
    "        # Each table row has a set of table cells, or tds\n",
    "        table_cells = table_row.findAll('td')\n",
    "        if len(table_cells) > 0:\n",
    "            org = {} # dictionary storing organisation\n",
    "            try:# store organisation name\n",
    "                org['name'] = table_cells[0].text[20:]\n",
    "            except:\n",
    "                print('cannot find name for row ' + str(i))\n",
    "            try: # store pdf url\n",
    "                org['pdf'] = table_cells[1].find('a')['href']\n",
    "            except: \n",
    "                print('error for pdf url for row ' + str(i))\n",
    "            orgs.append(org)\n",
    "        i=i+1"
   ]
  },
  {
   "cell_type": "code",
   "execution_count": null,
   "metadata": {},
   "outputs": [],
   "source": []
  },
  {
   "cell_type": "code",
   "execution_count": null,
   "metadata": {},
   "outputs": [],
   "source": []
  },
  {
   "cell_type": "code",
   "execution_count": null,
   "metadata": {},
   "outputs": [],
   "source": []
  },
  {
   "cell_type": "code",
   "execution_count": null,
   "metadata": {},
   "outputs": [],
   "source": []
  }
 ],
 "metadata": {
  "kernelspec": {
   "display_name": "Python 3",
   "language": "python",
   "name": "python3"
  },
  "language_info": {
   "codemirror_mode": {
    "name": "ipython",
    "version": 3
   },
   "file_extension": ".py",
   "mimetype": "text/x-python",
   "name": "python",
   "nbconvert_exporter": "python",
   "pygments_lexer": "ipython3",
   "version": "3.6.4"
  }
 },
 "nbformat": 4,
 "nbformat_minor": 2
}
